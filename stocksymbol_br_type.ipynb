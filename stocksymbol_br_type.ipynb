{
 "cells": [
  {
   "cell_type": "code",
   "execution_count": 94,
   "metadata": {},
   "outputs": [],
   "source": [
    "import pandas as pd\n",
    "from stocksymbol import StockSymbol\n",
    "import os\n",
    "from dotenv import load_dotenv"
   ]
  },
  {
   "cell_type": "code",
   "execution_count": 98,
   "metadata": {},
   "outputs": [],
   "source": [
    "#Acessing API key in Enviroment Variables and setting DataFrame with stock symbols\n",
    "load_dotenv()\n",
    "api_key = os.getenv('api_key')\n",
    "ss = StockSymbol(api_key)\n",
    "brazil_list = pd.DataFrame(ss.get_symbol_list(market='BR'))"
   ]
  },
  {
   "cell_type": "code",
   "execution_count": 5,
   "metadata": {},
   "outputs": [],
   "source": [
    "#Dictionary of the types of stock listed in Brazilian Market\n",
    "stock_type = {'1' : 'Subscription Right - Commom Share', '2': 'Subscription Right - Preferred Share', '3' : 'Common Share', '4' : 'Preferred Share', \n",
    "              '5': 'Preferred Share - Class A', '6': 'Preferred Share - Class B', '7': 'Preferred Share - Class C', '8': 'Preferred Share - Class d',\n",
    "              '9': 'Subscription Receipt - Common Share', '10': 'Subscription Receipt - Preferred Share', '11': 'Units/ETF', '31': 'BDR Receipt',\n",
    "              '32': 'BDR - Level 2', '33': 'BDR - Level 3', '34': 'BDR', '35': 'BDR'} "
   ]
  },
  {
   "cell_type": "code",
   "execution_count": 99,
   "metadata": {},
   "outputs": [],
   "source": [
    "#Inserting Column of only number within the ticker called 'symbol_cl'\n",
    "def split_digit(x):\n",
    "    split = str(x.split('.')[0])\n",
    "    num = ''\n",
    "    for s in [c for c in split][-3:]:\n",
    "        if s.isdigit():\n",
    "            num += s\n",
    "        else: pass\n",
    "    return num\n",
    "\n",
    "cl_series = pd.Series(brazil_list['symbol']).apply(split_digit)\n",
    "brazil_list['symbol_cl'] = cl_series"
   ]
  },
  {
   "cell_type": "code",
   "execution_count": 101,
   "metadata": {},
   "outputs": [],
   "source": [
    "#Inserting Column of Types of Stock called 'type'\n",
    "type_series = pd.Series(brazil_list['symbol_cl']).map(stock_type)\n",
    "brazil_list['type'] = type_series"
   ]
  },
  {
   "cell_type": "code",
   "execution_count": 112,
   "metadata": {},
   "outputs": [],
   "source": [
    "#Inserting a boolean Column checking if it is a fractional stock called 'fractional'\n",
    "\n",
    "def is_frac(x):\n",
    "    x = x[-1]\n",
    "    if x == 'F':\n",
    "        return True\n",
    "    else: return False\n",
    "\n",
    "frac_series = pd.Series(brazil_list['symbol']).apply(is_frac)\n",
    "brazil_list['fractional'] = frac_series"
   ]
  },
  {
   "cell_type": "code",
   "execution_count": 113,
   "metadata": {},
   "outputs": [
    {
     "data": {
      "text/plain": [
       "0       False\n",
       "1       False\n",
       "2       False\n",
       "3       False\n",
       "4       False\n",
       "        ...  \n",
       "1918    False\n",
       "1919    False\n",
       "1920    False\n",
       "1921    False\n",
       "1922    False\n",
       "Name: symbol, Length: 1923, dtype: bool"
      ]
     },
     "execution_count": 113,
     "metadata": {},
     "output_type": "execute_result"
    }
   ],
   "source": [
    "frac_series"
   ]
  },
  {
   "cell_type": "code",
   "execution_count": 114,
   "metadata": {},
   "outputs": [
    {
     "data": {
      "text/plain": [
       "Series([], Name: fractional, dtype: bool)"
      ]
     },
     "execution_count": 114,
     "metadata": {},
     "output_type": "execute_result"
    }
   ],
   "source": [
    "true_l = brazil_list['fractional'].loc[brazil_list['fractional'] == True]\n",
    "true_l"
   ]
  },
  {
   "cell_type": "code",
   "execution_count": null,
   "metadata": {},
   "outputs": [],
   "source": []
  }
 ],
 "metadata": {
  "kernelspec": {
   "display_name": "venv",
   "language": "python",
   "name": "python3"
  },
  "language_info": {
   "codemirror_mode": {
    "name": "ipython",
    "version": 3
   },
   "file_extension": ".py",
   "mimetype": "text/x-python",
   "name": "python",
   "nbconvert_exporter": "python",
   "pygments_lexer": "ipython3",
   "version": "3.10.6"
  },
  "orig_nbformat": 4,
  "vscode": {
   "interpreter": {
    "hash": "53f5d6f0a764b20a9ef36431285fbc9b70311d75b531282abade91ef4f404db3"
   }
  }
 },
 "nbformat": 4,
 "nbformat_minor": 2
}
